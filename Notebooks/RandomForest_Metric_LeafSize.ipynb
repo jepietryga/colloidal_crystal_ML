{
 "cells": [
  {
   "cell_type": "markdown",
   "id": "cc942d0e",
   "metadata": {},
   "source": [
    "Notebook used to investigate how mean squared error of best model performance and average model perfomance as it changes with Leaf size (more per leaf -> less overfitting)\n",
    "Trees are at default depth (Max)\n",
    "Utilizing entire dataset\n",
    "\n",
    "use min_leaf_nodes"
   ]
  },
  {
   "cell_type": "code",
   "execution_count": 1,
   "id": "eba2e85b",
   "metadata": {},
   "outputs": [],
   "source": [
    "from sklearn.ensemble import RandomForestRegressor\n",
    "from sklearn.linear_model import LogisticRegression\n",
    "import pandas as pd \n",
    "import matplotlib.pyplot as plt \n",
    "import scipy.stats as stat\n",
    "import numpy as np \n",
    "#import forestsci\n",
    "from sklearn.preprocessing import OneHotEncoder\n",
    "from sklearn.model_selection import train_test_split\n",
    "from sklearn import metrics\n",
    "from collections import Counter\n",
    "\n",
    "import sys\n",
    "sys.path.append(\"..\")\n",
    "import Utility.model_utils as model_utils"
   ]
  },
  {
   "cell_type": "code",
   "execution_count": 2,
   "id": "a5673d9a",
   "metadata": {},
   "outputs": [],
   "source": [
    "# Runtime Variables\n",
    "number_trees = 64\n",
    "seed = 72\n",
    "accuracy_array = []\n",
    "\n",
    "# Data Input\n",
    "filename = '../Results/training_data.csv'\n",
    "\n",
    "# If saving model, set save to True and give meaningful name\n",
    "#model_name = 'RF_C_MC.sav'\n",
    "#save = False \n",
    "\n",
    "\n",
    "# Control what features are used by the model\n",
    "label=\"Labels\"\n",
    "features=['area',\n",
    "#        'equivalent_diameter', \n",
    "#        'orientation', \n",
    "    'major_axis_length',\n",
    "    'minor_axis_length',\n",
    "    'perimeter',\n",
    "        'min_intensity',\n",
    "        'mean_intensity',\n",
    "        'max_intensity',\n",
    "    'solidity',\n",
    "    'major_axis_length/minor_axis_length',\n",
    "    'perimeter/major_axis_length',\n",
    "    'perimeter/minor_axis_length',\n",
    "          'feret_diameter_max',\n",
    "      'moments_hu-0',\n",
    "      'moments_hu-1',\n",
    "      'moments_hu-2',\n",
    "#      'moments_hu-3',\n",
    "#      'moments_hu-4',\n",
    "#      'moments_hu-5',\n",
    "#      'moments_hu-6',\n",
    "#    'eccentricity'\n",
    "         ]\n"
   ]
  },
  {
   "cell_type": "code",
   "execution_count": 3,
   "id": "6ade14b6",
   "metadata": {
    "scrolled": true
   },
   "outputs": [
    {
     "name": "stdout",
     "output_type": "stream",
     "text": [
      "0 Seed Completed...\n",
      "10 Seed Completed...\n",
      "20 Seed Completed...\n",
      "30 Seed Completed...\n",
      "40 Seed Completed...\n",
      "Leaf Size 64 evaluated, time elapsed: 25.02581524848938\n",
      "0 Seed Completed...\n",
      "10 Seed Completed...\n",
      "20 Seed Completed...\n",
      "30 Seed Completed...\n",
      "40 Seed Completed...\n",
      "Leaf Size 64 evaluated, time elapsed: 48.795074224472046\n",
      "0 Seed Completed...\n",
      "10 Seed Completed...\n",
      "20 Seed Completed...\n",
      "30 Seed Completed...\n",
      "40 Seed Completed...\n",
      "Leaf Size 64 evaluated, time elapsed: 72.2869873046875\n",
      "0 Seed Completed...\n",
      "10 Seed Completed...\n",
      "20 Seed Completed...\n",
      "30 Seed Completed...\n",
      "40 Seed Completed...\n",
      "Leaf Size 64 evaluated, time elapsed: 103.15871691703796\n",
      "0 Seed Completed...\n",
      "10 Seed Completed...\n",
      "20 Seed Completed...\n",
      "30 Seed Completed...\n",
      "40 Seed Completed...\n",
      "Leaf Size 64 evaluated, time elapsed: 127.44287705421448\n",
      "0 Seed Completed...\n",
      "10 Seed Completed...\n",
      "20 Seed Completed...\n",
      "30 Seed Completed...\n",
      "40 Seed Completed...\n",
      "Leaf Size 64 evaluated, time elapsed: 147.76253247261047\n",
      "0 Seed Completed...\n",
      "10 Seed Completed...\n",
      "20 Seed Completed...\n",
      "30 Seed Completed...\n",
      "40 Seed Completed...\n",
      "Leaf Size 64 evaluated, time elapsed: 167.5297725200653\n",
      "0 Seed Completed...\n",
      "10 Seed Completed...\n",
      "20 Seed Completed...\n",
      "30 Seed Completed...\n",
      "40 Seed Completed...\n",
      "Leaf Size 64 evaluated, time elapsed: 186.63367319107056\n",
      "0 Seed Completed...\n",
      "10 Seed Completed...\n",
      "20 Seed Completed...\n",
      "30 Seed Completed...\n",
      "40 Seed Completed...\n",
      "Leaf Size 64 evaluated, time elapsed: 205.8216016292572\n",
      "0 Seed Completed...\n",
      "10 Seed Completed...\n",
      "20 Seed Completed...\n",
      "30 Seed Completed...\n",
      "40 Seed Completed...\n",
      "Leaf Size 64 evaluated, time elapsed: 225.09589529037476\n",
      "0 Seed Completed...\n",
      "10 Seed Completed...\n",
      "20 Seed Completed...\n",
      "30 Seed Completed...\n",
      "40 Seed Completed...\n",
      "Leaf Size 64 evaluated, time elapsed: 244.22532200813293\n",
      "0 Seed Completed...\n",
      "10 Seed Completed...\n",
      "20 Seed Completed...\n",
      "30 Seed Completed...\n",
      "40 Seed Completed...\n",
      "Leaf Size 64 evaluated, time elapsed: 260.22974491119385\n",
      "0 Seed Completed...\n",
      "10 Seed Completed...\n",
      "20 Seed Completed...\n",
      "30 Seed Completed...\n",
      "40 Seed Completed...\n",
      "Leaf Size 64 evaluated, time elapsed: 275.4207890033722\n",
      "0 Seed Completed...\n",
      "10 Seed Completed...\n",
      "20 Seed Completed...\n",
      "30 Seed Completed...\n",
      "40 Seed Completed...\n",
      "Leaf Size 64 evaluated, time elapsed: 290.3354711532593\n"
     ]
    }
   ],
   "source": [
    "import time\n",
    "start_time = time.time()\n",
    "\n",
    "best_f1 = 0\n",
    "best_model = None\n",
    "best_model_test_f1_arr = []\n",
    "best_model_train_f1_arr = []\n",
    "avg_model_test_f1_arr = []\n",
    "avg_model_train_f1_arr = []\n",
    "all_model_test_f1_arr = []\n",
    "all_model_train_f1_arr = []\n",
    "\n",
    "min_leaf_arr = [1,2,3,4,5,6,7,8,9,10,15,20,30,60]\n",
    "seeds_arr = np.arange(50)\n",
    "\n",
    "for min_leaf in min_leaf_arr:\n",
    "    model_test_f1_arr = []\n",
    "    model_train_f1_arr = []\n",
    "    for seed in seeds_arr: # 50 runs \n",
    "        df = pd.read_csv(filename) # Read in data w/ features\n",
    "\n",
    "        # Modify Data (Remove illegal data OR set different runtime)\n",
    "        # Change how data is grouped\n",
    "        df['Labels'].replace('Poorly Segmented', 'Incomplete', inplace=True) # Group Poorly Segmented and Incomplete as a single class\n",
    "        df['Labels'].replace('Multiple Crystal', 'Crystal', inplace=True) # Group Multiple Crystal and Crystal as a single class\n",
    "        #df = df[df['Labels'] != \"Incomplete\"] # Remove any data labeled as \"Incomplete\"\n",
    "\n",
    "        # Missed Labels: Purge any bad data that the model cannot run on\n",
    "        df['Labels'].replace('', np.nan, inplace=True) \n",
    "        df.dropna(subset=['Labels'], inplace=True)\n",
    "        # Numerical errors (divide by 0)\n",
    "        df.replace([np.inf, -np.inf], np.nan, inplace=True)\n",
    "        for feature in features:\n",
    "            df.dropna(subset=[feature],inplace=True)\n",
    "\n",
    "        # Split Data\n",
    "        X=df[features]\n",
    "        y=df[label]\n",
    "\n",
    "        #print(Counter(y))\n",
    "\n",
    "        # Encode\n",
    "        ohe = OneHotEncoder(sparse=False)\n",
    "        y = ohe.fit_transform(df[[label]])\n",
    "\n",
    "        # Split\n",
    "        X_train, X_test, y_train, y_test = train_test_split(X, y, test_size=.2)\n",
    "\n",
    "        # Create RandomForestRegressor\n",
    "        rfr=RandomForestRegressor(n_estimators = number_trees,min_samples_leaf=min_leaf,oob_score=False)\n",
    "        rfr.fit(X_train,y_train)\n",
    "\n",
    "        # Accuracy Checks\n",
    "        y_pred_test = rfr.predict(X_test)\n",
    "        y_pred_test = np.round(y_pred_test)\n",
    "        test_accuracy = metrics.f1_score(y_test,y_pred_test,average='micro')\n",
    "        model_test_f1_arr.append(test_accuracy)\n",
    "        \n",
    "        y_pred_train = rfr.predict(X_train)\n",
    "        y_pred_train = np.round(y_pred_train)\n",
    "        train_accuracy = metrics.f1_score(y_train,y_pred_train,average='micro')\n",
    "        model_train_f1_arr.append(train_accuracy)\n",
    "        \n",
    "        #accuracy = metrics.accuracy_score(y_test,y_pred)\n",
    "        if seed % 10 == 0:\n",
    "            print(f'{seed} Seed Completed...')\n",
    "\n",
    "    best_index = np.argmax(model_test_f1_arr)    \n",
    "    best_model_test_f1_arr.append(model_test_f1_arr[best_index])\n",
    "    best_model_train_f1_arr.append(model_train_f1_arr[best_index])\n",
    "    avg_model_test_f1_arr.append(np.mean(model_test_f1_arr))\n",
    "    avg_model_train_f1_arr.append(np.mean(model_train_f1_arr))\n",
    "    all_model_test_f1_arr.append(model_test_f1_arr)\n",
    "    all_model_train_f1_arr.append(model_train_f1_arr)\n",
    "    elapsed_time = time.time() - start_time\n",
    "\n",
    "    print(f'Leaf Size {number_trees} evaluated, time elapsed: {elapsed_time}')"
   ]
  },
  {
   "cell_type": "code",
   "execution_count": 4,
   "id": "78b7a882",
   "metadata": {},
   "outputs": [
    {
     "name": "stdout",
     "output_type": "stream",
     "text": [
      "Best Model F1: 0\n",
      "OneHotEncoder(sparse=False)\n",
      "['Labels']\n"
     ]
    },
    {
     "data": {
      "text/plain": [
       "array(['Labels_Crystal', 'Labels_Incomplete', 'Labels_Multiple Crystal',\n",
       "       'Labels_Poorly Segmented'], dtype=object)"
      ]
     },
     "execution_count": 4,
     "metadata": {},
     "output_type": "execute_result"
    }
   ],
   "source": [
    "print(f'Best Model F1: {best_f1}')\n",
    "#print(best_model.oob_score_)\n",
    "#print(best_model.score(X_train,y_train))\n",
    "print(ohe)\n",
    "print(ohe.feature_names_in_)\n",
    "ohe.get_feature_names_out(['Labels'])"
   ]
  },
  {
   "cell_type": "code",
   "execution_count": 5,
   "id": "6cdaa0d3",
   "metadata": {},
   "outputs": [
    {
     "name": "stdout",
     "output_type": "stream",
     "text": [
      "[0.6683544303797468, 0.6887755102040817, 0.6532663316582915, 0.6498740554156172, 0.6532663316582915, 0.6666666666666667, 0.6529562982005142, 0.6516290726817042, 0.6329113924050633, 0.654911838790932, 0.6426735218508997, 0.6580976863753213, 0.6541554959785524, 0.6138107416879796]\n"
     ]
    },
    {
     "data": {
      "image/png": "[encoded data removed]",
      "text/plain": [
       "<Figure size 640x480 with 1 Axes>"
      ]
     },
     "metadata": {},
     "output_type": "display_data"
    }
   ],
   "source": [
    "plt.plot(min_leaf_arr,best_model_test_f1_arr)\n",
    "#plt.plot(min_leaf_arr,best_model_train_f1_arr)\n",
    "plt.plot(min_leaf_arr,avg_model_test_f1_arr)\n",
    "#plt.plot(min_leaf_arr,avg_model_train_f1_arr)\n",
    "#plt.plot(min_leaf_arr,[min(arr) for arr in all_model_test_f1_arr])\n",
    "print(best_model_test_f1_arr)"
   ]
  },
  {
   "cell_type": "code",
   "execution_count": null,
   "id": "d863f7f7",
   "metadata": {
    "scrolled": true
   },
   "outputs": [],
   "source": [
    "# Feature Importances\n",
    "\n",
    "from sklearn.inspection import permutation_importance\n",
    "import time\n",
    "\n",
    "start_time = time.time()\n",
    "result = permutation_importance(best_model, X_test, y_test, n_repeats=10, random_state=seed, n_jobs=2)\n",
    "elapsed_time = time.time() - start_time\n",
    "\n",
    "print(f'Time elapsed: {elapsed_time}')\n",
    "forest_importances = pd.Series(result.importances_mean, index=features)"
   ]
  }
 ],
 "metadata": {
  "kernelspec": {
   "display_name": "colloidal_crystal_env",
   "language": "python",
   "name": "colloidal_crystal_env"
  },
  "language_info": {
   "codemirror_mode": {
    "name": "ipython",
    "version": 3
   },
   "file_extension": ".py",
   "mimetype": "text/x-python",
   "name": "python",
   "nbconvert_exporter": "python",
   "pygments_lexer": "ipython3",
   "version": "3.9.13"
  }
 },
 "nbformat": 4,
 "nbformat_minor": 5
}
