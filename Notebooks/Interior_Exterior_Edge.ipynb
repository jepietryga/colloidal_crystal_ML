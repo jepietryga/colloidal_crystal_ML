{
 "cells": [
  {
   "cell_type": "raw",
   "id": "c7d8f2b1",
   "metadata": {},
   "source": [
    "Goal of this notebook is to explore the impact of internal, external edges in classification, specifically.\n",
    "\n",
    "Internal Edge: \n",
    "These define the edges on SEM object facets\n",
    "These tend to be bright as they are hte edges on a given SEM object\n",
    "\n",
    "External Edge: \n",
    "These define the edges from the overlapping of SEM objects\n",
    "\n",
    "Key Exploration Notes:\n",
    "- Intensity or Gradient of intensity for defining an external vs internal edge?"
   ]
  }
 ],
 "metadata": {
  "kernelspec": {
   "display_name": "Python [conda env:colloidal_crystal]",
   "language": "python",
   "name": "conda-env-colloidal_crystal-py"
  },
  "language_info": {
   "codemirror_mode": {
    "name": "ipython",
    "version": 3
   },
   "file_extension": ".py",
   "mimetype": "text/x-python",
   "name": "python",
   "nbconvert_exporter": "python",
   "pygments_lexer": "ipython3",
   "version": "3.9.12"
  }
 },
 "nbformat": 4,
 "nbformat_minor": 5
}
