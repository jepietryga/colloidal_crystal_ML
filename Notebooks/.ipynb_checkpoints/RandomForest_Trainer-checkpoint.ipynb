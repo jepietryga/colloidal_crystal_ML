{
 "cells": [
  {
   "cell_type": "markdown",
   "id": "11f4d57d",
   "metadata": {},
   "source": [
    "Notebook used to train RF models from the training data.\n",
    "\n",
    "Comments throughout explain where changes can be made to change what's being trained!"
   ]
  },
  {
   "cell_type": "code",
   "execution_count": null,
   "id": "7958fa36",
   "metadata": {},
   "outputs": [],
   "source": [
    "from sklearn.ensemble import RandomForestRegressor\n",
    "from sklearn.linear_model import LogisticRegression\n",
    "import pandas as pd \n",
    "import matplotlib.pyplot as plt \n",
    "import scipy.stats as stat\n",
    "import numpy as np \n",
    "#import forestsci\n",
    "import model_utility\n",
    "from sklearn.preprocessing import OneHotEncoder\n",
    "from sklearn.model_selection import train_test_split\n",
    "from sklearn import metrics\n",
    "from collections import Counter"
   ]
  },
  {
   "cell_type": "code",
   "execution_count": 2,
   "id": "a5673d9a",
   "metadata": {},
   "outputs": [],
   "source": [
    "# Runtime Variables\n",
    "number_trees = 100\n",
    "seed = 72\n",
    "accuracy_array = []\n",
    "\n",
    "# Data Input\n",
    "filename = 'training_data.csv'\n",
    "\n",
    "# If saving model, set save to True and give meaningful name\n",
    "model_name = 'RF_C_MC.sav'\n",
    "save = False \n",
    "\n",
    "\n",
    "# Control what features are used by the model\n",
    "label=\"Labels\"\n",
    "features=['area',\n",
    "#        'equivalent_diameter', \n",
    "#        'orientation', \n",
    "    'major_axis_length',\n",
    "    'minor_axis_length',\n",
    "    'perimeter',\n",
    "        'min_intensity',\n",
    "        'mean_intensity',\n",
    "        'max_intensity',\n",
    "    'solidity',\n",
    "    'major_axis_length/minor_axis_length',\n",
    "    'perimeter/major_axis_length',\n",
    "    'perimeter/minor_axis_length',\n",
    "          'feret_diameter_max',\n",
    "      'moments_hu-0',\n",
    "      'moments_hu-1',\n",
    "      'moments_hu-2',\n",
    "#      'moments_hu-3',\n",
    "#      'moments_hu-4',\n",
    "#      'moments_hu-5',\n",
    "#      'moments_hu-6',\n",
    "#    'eccentricity'\n",
    "         ]\n"
   ]
  },
  {
   "cell_type": "code",
   "execution_count": 3,
   "id": "6ade14b6",
   "metadata": {
    "scrolled": true
   },
   "outputs": [
    {
     "name": "stdout",
     "output_type": "stream",
     "text": [
      "Counter({'Crystal': 754, 'Incomplete': 413})\n",
      "0 Seed Completed\n",
      "Labels_Crystal -> Precision = 0.8291139240506329, Recall = 0.8451612903225807, F1 = 0.8370607028753995\n",
      "Labels_Incomplete -> Precision = 0.6933333333333334, Recall = 0.6582278481012658, F1 = 0.6753246753246753\n",
      "Run Accuracy : 0.782051282051282\n",
      "Running Average F1: 0.7837259100642398, OOB Score: 0.3279194026220958\n"
     ]
    }
   ],
   "source": [
    "best_f1 = 0\n",
    "best_model = None\n",
    "for seed in np.arange(1):\n",
    "    # Read in data w/ features\n",
    "    df = pd.read_csv(filename)\n",
    "\n",
    "    # Modify Data (Remove illegal data OR set different runtime)\n",
    "\n",
    "    \n",
    "    # Change how data is grouped\n",
    "    df['Labels'].replace('Poorly Segmented', 'Incomplete', inplace=True) # Group Poorly Segmented and Incomplete as a single class\n",
    "    df['Labels'].replace('Multiple Crystal', 'Crystal', inplace=True) # Group Multiple Crystal and Crystal as a single class\n",
    "    #df = df[df['Labels'] != \"Incomplete\"] # Remove any data labaled as \"Incomplete\"\n",
    "    \n",
    "    # Missed Labels: Purge any bad data that the model cannot run on\n",
    "    df['Labels'].replace('', np.nan, inplace=True) \n",
    "    df.dropna(subset=['Labels'], inplace=True)\n",
    "    # Numerical errors (divide by 0)\n",
    "    df.replace([np.inf, -np.inf], np.nan, inplace=True)\n",
    "    for feature in features:\n",
    "        df.dropna(subset=[feature],inplace=True)\n",
    "\n",
    "    # Split Data\n",
    "    X=df[features]\n",
    "    y=df[label]\n",
    "    \n",
    "    print(Counter(y))\n",
    "\n",
    "    # Encode\n",
    "    ohe = OneHotEncoder(sparse=False)\n",
    "    y = ohe.fit_transform(df[[label]])\n",
    "\n",
    "    # Split\n",
    "    X_train, X_test, y_train, y_test = train_test_split(X, y, test_size=.2)\n",
    "\n",
    "    # Create RandomForestRegressor\n",
    "    rfr=RandomForestRegressor(n_estimators = number_trees,oob_score=True)\n",
    "    rfr.fit(X_train,y_train)\n",
    "\n",
    "    # Accuracy Checks\n",
    "    y_pred=rfr.predict(X_test)\n",
    "    y_pred = np.round(y_pred)\n",
    "    \n",
    "    accuracy = metrics.f1_score(y_test,y_pred,average='micro')\n",
    "    accuracy_array.append(accuracy)\n",
    "    #accuracy = metrics.accuracy_score(y_test,y_pred)\n",
    "    print(f'{seed} Seed Completed')\n",
    "    model_utility.success_of_guess(y_pred,y_test,ohe)\n",
    "    print(f'Running Average F1: {np.average(accuracy_array)}, OOB Score: {rfr.oob_score_}')\n",
    "    \n",
    "    if accuracy > best_f1:\n",
    "        best_model = rfr\n",
    "        best_f1 = accuracy"
   ]
  },
  {
   "cell_type": "code",
   "execution_count": 13,
   "id": "78b7a882",
   "metadata": {},
   "outputs": [
    {
     "name": "stdout",
     "output_type": "stream",
     "text": [
      "Best Model F1: 0.7837259100642398\n",
      "0.3279194026220958\n",
      "0.9093591054951884\n",
      "OneHotEncoder(sparse=False)\n",
      "['Labels']\n"
     ]
    },
    {
     "data": {
      "text/plain": [
       "array(['Labels_Crystal', 'Labels_Incomplete'], dtype=object)"
      ]
     },
     "execution_count": 13,
     "metadata": {},
     "output_type": "execute_result"
    }
   ],
   "source": [
    "print(f'Best Model F1: {best_f1}')\n",
    "print(best_model.oob_score_)\n",
    "print(best_model.score(X_train,y_train))\n",
    "print(ohe)\n",
    "print(ohe.feature_names_in_)\n",
    "ohe.get_feature_names_out(['Labels'])"
   ]
  },
  {
   "cell_type": "code",
   "execution_count": 5,
   "id": "d863f7f7",
   "metadata": {
    "scrolled": true
   },
   "outputs": [
    {
     "name": "stdout",
     "output_type": "stream",
     "text": [
      "Time elapsed: 6.883235692977905\n"
     ]
    }
   ],
   "source": [
    "from sklearn.inspection import permutation_importance\n",
    "import time\n",
    "\n",
    "start_time = time.time()\n",
    "result = permutation_importance(best_model, X_test, y_test, n_repeats=10, random_state=seed, n_jobs=2)\n",
    "elapsed_time = time.time() - start_time\n",
    "\n",
    "print(f'Time elapsed: {elapsed_time}')\n",
    "forest_importances = pd.Series(result.importances_mean, index=features)"
   ]
  },
  {
   "cell_type": "code",
   "execution_count": 6,
   "id": "919e416c",
   "metadata": {},
   "outputs": [
    {
     "data": {
      "image/png": "[encoded data removed]",
      "text/plain": [
       "<Figure size 432x288 with 1 Axes>"
      ]
     },
     "metadata": {
      "needs_background": "light"
     },
     "output_type": "display_data"
    }
   ],
   "source": [
    "fig, ax = plt.subplots()\n",
    "forest_importances.plot.bar(yerr=result.importances_std, ax=ax)\n",
    "ax.set_title(\"Feature importances using permutation on full model\")\n",
    "ax.set_ylabel(\"Mean accuracy decrease\")\n",
    "fig.tight_layout()\n",
    "plt.show()"
   ]
  },
  {
   "cell_type": "code",
   "execution_count": 7,
   "id": "b33254de",
   "metadata": {},
   "outputs": [],
   "source": [
    "import pickle\n",
    "if save:\n",
    "    pickle.dump(best_model, open(model_name, 'wb'))"
   ]
  },
  {
   "cell_type": "code",
   "execution_count": 8,
   "id": "6ce02a70",
   "metadata": {},
   "outputs": [
    {
     "name": "stdout",
     "output_type": "stream",
     "text": [
      "      principal component 1  principal component 2\n",
      "0             -1.284943e+06             218.510092\n",
      "1             -8.991162e+05            -187.048379\n",
      "2             -5.799255e+05             280.493068\n",
      "3             -1.028274e+06             172.127277\n",
      "4             -1.162367e+06             234.549285\n",
      "...                     ...                    ...\n",
      "1162           6.532767e+06            1314.799844\n",
      "1163          -6.975651e+05            -342.943031\n",
      "1164          -9.641056e+05           -1033.410420\n",
      "1165          -1.435488e+06            -553.321286\n",
      "1166          -1.584389e+06            -263.746760\n",
      "\n",
      "[1167 rows x 2 columns]\n"
     ]
    },
    {
     "ename": "NameError",
     "evalue": "name 'label_list' is not defined",
     "output_type": "error",
     "traceback": [
      "\u001b[0;31m---------------------------------------------------------------------------\u001b[0m",
      "\u001b[0;31mNameError\u001b[0m                                 Traceback (most recent call last)",
      "Input \u001b[0;32mIn [8]\u001b[0m, in \u001b[0;36m<cell line: 11>\u001b[0;34m()\u001b[0m\n\u001b[1;32m      7\u001b[0m \u001b[38;5;28mprint\u001b[39m(principalDf)\n\u001b[1;32m      9\u001b[0m finalDf \u001b[38;5;241m=\u001b[39m pd\u001b[38;5;241m.\u001b[39mconcat([principalDf, df[[\u001b[38;5;124m'\u001b[39m\u001b[38;5;124mLabels\u001b[39m\u001b[38;5;124m'\u001b[39m]]], axis \u001b[38;5;241m=\u001b[39m \u001b[38;5;241m1\u001b[39m)\n\u001b[0;32m---> 11\u001b[0m \u001b[38;5;28;01mfor\u001b[39;00m label \u001b[38;5;129;01min\u001b[39;00m \u001b[43mlabel_list\u001b[49m:\n\u001b[1;32m     12\u001b[0m     xlabel \u001b[38;5;241m=\u001b[39m \u001b[38;5;124m'\u001b[39m\u001b[38;5;124mprincipal component 1\u001b[39m\u001b[38;5;124m'\u001b[39m\n\u001b[1;32m     13\u001b[0m     ylabel \u001b[38;5;241m=\u001b[39m \u001b[38;5;124m'\u001b[39m\u001b[38;5;124mprincipal component 2\u001b[39m\u001b[38;5;124m'\u001b[39m\n",
      "\u001b[0;31mNameError\u001b[0m: name 'label_list' is not defined"
     ]
    }
   ],
   "source": [
    "from sklearn.decomposition import PCA\n",
    "\n",
    "pca = PCA(n_components=2)\n",
    "principalComponents = pca.fit_transform(X)\n",
    "principalDf = pd.DataFrame(data = principalComponents\n",
    "             , columns = ['principal component 1', 'principal component 2'])\n",
    "print(principalDf)\n",
    "\n",
    "finalDf = pd.concat([principalDf, df[['Labels']]], axis = 1)\n",
    "\n",
    "for label in label_list:\n",
    "    xlabel = 'principal component 1'\n",
    "    ylabel = 'principal component 2'\n",
    "    segregated_data = finalDf[finalDf[\"Labels\"] == label]\n",
    "    plt.scatter(segregated_data[xlabel],segregated_data[ylabel],alpha=.4)\n",
    "    plt.xlabel(xlabel)\n",
    "    plt.ylabel(ylabel)\n",
    "    plt.legend(label_list)\n",
    "plt.show()"
   ]
  },
  {
   "cell_type": "code",
   "execution_count": null,
   "id": "43cd4041",
   "metadata": {},
   "outputs": [],
   "source": []
  }
 ],
 "metadata": {
  "kernelspec": {
   "display_name": "interfaceBuilder",
   "language": "python",
   "name": "interfacebuilder"
  },
  "language_info": {
   "codemirror_mode": {
    "name": "ipython",
    "version": 3
   },
   "file_extension": ".py",
   "mimetype": "text/x-python",
   "name": "python",
   "nbconvert_exporter": "python",
   "pygments_lexer": "ipython3",
   "version": "3.8.10"
  }
 },
 "nbformat": 4,
 "nbformat_minor": 5
}
