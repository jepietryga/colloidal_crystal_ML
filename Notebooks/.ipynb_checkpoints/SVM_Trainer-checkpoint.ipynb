{
 "cells": [
  {
   "cell_type": "markdown",
   "id": "cc942d0e",
   "metadata": {},
   "source": [
    "Notebook used to train RF models from the training data.\n",
    "\n",
    "Comments throughout explain where changes can be made to change what's being trained!"
   ]
  },
  {
   "cell_type": "code",
   "execution_count": 1,
   "id": "eba2e85b",
   "metadata": {},
   "outputs": [],
   "source": [
    "from sklearn.ensemble import RandomForestRegressor\n",
    "from sklearn.linear_model import LogisticRegression\n",
    "import pandas as pd \n",
    "import matplotlib.pyplot as plt \n",
    "import scipy.stats as stat\n",
    "import numpy as np \n",
    "#import forestsci\n",
    "from sklearn.preprocessing import OneHotEncoder\n",
    "from sklearn.model_selection import train_test_split\n",
    "from sklearn import metrics\n",
    "from collections import Counter\n",
    "\n",
    "import sys\n",
    "sys.path.append(\"..\")\n",
    "import Utility.model_utils as model_utils"
   ]
  },
  {
   "cell_type": "code",
   "execution_count": 2,
   "id": "a5673d9a",
   "metadata": {},
   "outputs": [],
   "source": [
    "# Runtime Variables\n",
    "number_trees = 100\n",
    "seed = 72\n",
    "accuracy_array = []\n",
    "\n",
    "# Data Input\n",
    "filename = '../Results/training_data.csv'\n",
    "\n",
    "# If saving model, set save to True and give meaningful name\n",
    "model_name = 'RF_C_MC.sav'\n",
    "save = False \n",
    "\n",
    "\n",
    "# Control what features are used by the model\n",
    "label=\"Labels\"\n",
    "features=['area',\n",
    "#        'equivalent_diameter', \n",
    "#        'orientation', \n",
    "    'major_axis_length',\n",
    "    'minor_axis_length',\n",
    "    'perimeter',\n",
    "        'min_intensity',\n",
    "        'mean_intensity',\n",
    "        'max_intensity',\n",
    "    'solidity',\n",
    "    'major_axis_length/minor_axis_length',\n",
    "    'perimeter/major_axis_length',\n",
    "    'perimeter/minor_axis_length',\n",
    "          'feret_diameter_max',\n",
    "      'moments_hu-0',\n",
    "      'moments_hu-1',\n",
    "      'moments_hu-2',\n",
    "#      'moments_hu-3',\n",
    "#      'moments_hu-4',\n",
    "#      'moments_hu-5',\n",
    "#      'moments_hu-6',\n",
    "#    'eccentricity'\n",
    "         ]\n"
   ]
  },
  {
   "cell_type": "code",
   "execution_count": 3,
   "id": "6ade14b6",
   "metadata": {
    "scrolled": true
   },
   "outputs": [
    {
     "name": "stdout",
     "output_type": "stream",
     "text": [
      "Counter({'Crystal': 754, 'Incomplete': 413})\n",
      "0 Seed Completed\n",
      "Labels_Crystal -> Precision = 0.8395061728395061, Recall = 0.8343558282208589, F1 = 0.836923076923077\n",
      "Labels_Incomplete -> Precision = 0.6428571428571429, Recall = 0.6338028169014085, F1 = 0.6382978723404257\n",
      "Run Accuracy : 0.7735042735042735\n",
      "Running Average F1: 0.776824034334764, OOB Score: 0.340366229759716\n"
     ]
    }
   ],
   "source": [
    "best_f1 = 0\n",
    "best_model = None\n",
    "for seed in np.arange(1):\n",
    "    # Read in data w/ features\n",
    "    df = pd.read_csv(filename)\n",
    "\n",
    "    # Modify Data (Remove illegal data OR set different runtime)\n",
    "\n",
    "    \n",
    "    # Change how data is grouped\n",
    "    df['Labels'].replace('Poorly Segmented', 'Incomplete', inplace=True) # Group Poorly Segmented and Incomplete as a single class\n",
    "    df['Labels'].replace('Multiple Crystal', 'Crystal', inplace=True) # Group Multiple Crystal and Crystal as a single class\n",
    "    #df = df[df['Labels'] != \"Incomplete\"] # Remove any data labeled as \"Incomplete\"\n",
    "    \n",
    "    # Missed Labels: Purge any bad data that the model cannot run on\n",
    "    df['Labels'].replace('', np.nan, inplace=True) \n",
    "    df.dropna(subset=['Labels'], inplace=True)\n",
    "    # Numerical errors (divide by 0)\n",
    "    df.replace([np.inf, -np.inf], np.nan, inplace=True)\n",
    "    for feature in features:\n",
    "        df.dropna(subset=[feature],inplace=True)\n",
    "\n",
    "    # Split Data\n",
    "    X=df[features]\n",
    "    y=df[label]\n",
    "    \n",
    "    print(Counter(y))\n",
    "\n",
    "    # Encode\n",
    "    ohe = OneHotEncoder(sparse=False)\n",
    "    y = ohe.fit_transform(df[[label]])\n",
    "\n",
    "    # Split\n",
    "    X_train, X_test, y_train, y_test = train_test_split(X, y, test_size=.2)\n",
    "\n",
    "    # Create RandomForestRegressor\n",
    "    rfr=RandomForestRegressor(n_estimators = number_trees,oob_score=True)\n",
    "    rfr.fit(X_train,y_train)\n",
    "\n",
    "    # Accuracy Checks\n",
    "    y_pred=rfr.predict(X_test)\n",
    "    y_pred = np.round(y_pred)\n",
    "    \n",
    "    accuracy = metrics.f1_score(y_test,y_pred,average='micro')\n",
    "    accuracy_array.append(accuracy)\n",
    "    #accuracy = metrics.accuracy_score(y_test,y_pred)\n",
    "    print(f'{seed} Seed Completed')\n",
    "    model_utils.success_of_guess(y_pred,y_test,ohe)\n",
    "    print(f'Running Average F1: {np.average(accuracy_array)}, OOB Score: {rfr.oob_score_}')\n",
    "    \n",
    "    if accuracy > best_f1:\n",
    "        best_model = rfr\n",
    "        best_f1 = accuracy"
   ]
  },
  {
   "cell_type": "code",
   "execution_count": 4,
   "id": "78b7a882",
   "metadata": {},
   "outputs": [
    {
     "name": "stdout",
     "output_type": "stream",
     "text": [
      "Best Model F1: 0.776824034334764\n",
      "0.340366229759716\n",
      "0.9076573633745968\n",
      "OneHotEncoder(sparse=False)\n",
      "['Labels']\n"
     ]
    },
    {
     "data": {
      "text/plain": [
       "array(['Labels_Crystal', 'Labels_Incomplete'], dtype=object)"
      ]
     },
     "execution_count": 4,
     "metadata": {},
     "output_type": "execute_result"
    }
   ],
   "source": [
    "print(f'Best Model F1: {best_f1}')\n",
    "print(best_model.oob_score_)\n",
    "print(best_model.score(X_train,y_train))\n",
    "print(ohe)\n",
    "print(ohe.feature_names_in_)\n",
    "ohe.get_feature_names_out(['Labels'])"
   ]
  },
  {
   "cell_type": "code",
   "execution_count": 5,
   "id": "d863f7f7",
   "metadata": {
    "scrolled": true
   },
   "outputs": [
    {
     "name": "stdout",
     "output_type": "stream",
     "text": [
      "Time elapsed: 2.9223012924194336\n"
     ]
    }
   ],
   "source": [
    "# Feature Importances\n",
    "\n",
    "from sklearn.inspection import permutation_importance\n",
    "import time\n",
    "\n",
    "start_time = time.time()\n",
    "result = permutation_importance(best_model, X_test, y_test, n_repeats=10, random_state=seed, n_jobs=2)\n",
    "elapsed_time = time.time() - start_time\n",
    "\n",
    "print(f'Time elapsed: {elapsed_time}')\n",
    "forest_importances = pd.Series(result.importances_mean, index=features)"
   ]
  },
  {
   "cell_type": "code",
   "execution_count": 6,
   "id": "919e416c",
   "metadata": {},
   "outputs": [
    {
     "data": {
      "image/png": "[encoded data removed]",
      "text/plain": [
       "<Figure size 432x288 with 1 Axes>"
      ]
     },
     "metadata": {
      "needs_background": "light"
     },
     "output_type": "display_data"
    }
   ],
   "source": [
    "fig, ax = plt.subplots()\n",
    "forest_importances.plot.bar(yerr=result.importances_std, ax=ax)\n",
    "ax.set_title(\"Feature importances using permutation on full model\")\n",
    "ax.set_ylabel(\"Mean accuracy decrease\")\n",
    "fig.tight_layout()\n",
    "plt.show()"
   ]
  },
  {
   "cell_type": "code",
   "execution_count": 7,
   "id": "b33254de",
   "metadata": {},
   "outputs": [],
   "source": [
    "import pickle\n",
    "if save:\n",
    "    pickle.dump(best_model, open(model_name, 'wb'))"
   ]
  }
 ],
 "metadata": {
  "kernelspec": {
   "display_name": "interfaceBuilder",
   "language": "python",
   "name": "interfacebuilder"
  },
  "language_info": {
   "codemirror_mode": {
    "name": "ipython",
    "version": 3
   },
   "file_extension": ".py",
   "mimetype": "text/x-python",
   "name": "python",
   "nbconvert_exporter": "python",
   "pygments_lexer": "ipython3",
   "version": "3.8.10"
  }
 },
 "nbformat": 4,
 "nbformat_minor": 5
}
