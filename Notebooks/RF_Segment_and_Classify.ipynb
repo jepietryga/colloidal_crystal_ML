{
 "cells": [
  {
   "cell_type": "markdown",
   "id": "15a99eab",
   "metadata": {},
   "source": [
    "## Purpose\n",
    "By taking a directory of SEM images from a given experiment, we want to segment AND classify every image such that we can begin looking at the data as a whole"
   ]
  },
  {
   "cell_type": "code",
   "execution_count": 1,
   "id": "90f6a8b0",
   "metadata": {},
   "outputs": [],
   "source": [
    "# General Imports\n",
    "from sklearn.ensemble import RandomForestRegressor\n",
    "from sklearn.linear_model import LogisticRegression\n",
    "import pandas as pd \n",
    "import matplotlib.pyplot as plt \n",
    "import scipy.stats as stat\n",
    "import numpy as np \n",
    "#import forestsci\n",
    "from sklearn.preprocessing import OneHotEncoder\n",
    "from sklearn.model_selection import train_test_split\n",
    "from sklearn import metrics\n",
    "from collections import Counter\n",
    "import pickle\n",
    "import glob\n",
    "import copy\n",
    "\n",
    "import sys\n",
    "sys.path.append(\"..\")\n",
    "from Utility.segmentation_utils import * \n",
    "\n",
    "image_folder = \"../Images/Additional\" # Path to folder, adjust for other machines\n",
    "result_folder = \"../Results\"\n",
    "model_folder = \"../Models\"\n",
    "image_list_Si = glob.glob(f'{image_folder}/Si embed/*')\n",
    "image_list_Yuanwei = glob.glob(f'{image_folder}/Images to rachel (from Yuanwei)/*/*') # Might want to separate this?\n",
    "\n"
   ]
  },
  {
   "cell_type": "code",
   "execution_count": 2,
   "id": "f6ae1ec7",
   "metadata": {},
   "outputs": [
    {
     "name": "stdout",
     "output_type": "stream",
     "text": [
      "['../Images/Additional/L2 2.5, 5, 10 nM/L2 5 nM', '../Images/Additional/L2 2.5, 5, 10 nM/L2 2.5nM', '../Images/Additional/L2 2.5, 5, 10 nM/L2_10nM_Low mag.bmp', '../Images/Additional/L2 2.5, 5, 10 nM/L2 10nM']\n"
     ]
    },
    {
     "name": "stderr",
     "output_type": "stream",
     "text": [
      "/home/jacob/anaconda3/envs/colloidal_crystal/lib/python3.9/site-packages/sklearn/base.py:329: UserWarning: Trying to unpickle estimator DecisionTreeRegressor from version 1.1.1 when using version 1.1.2. This might lead to breaking code or invalid results. Use at your own risk. For more info please refer to:\n",
      "https://scikit-learn.org/stable/model_persistence.html#security-maintainability-limitations\n",
      "  warnings.warn(\n",
      "/home/jacob/anaconda3/envs/colloidal_crystal/lib/python3.9/site-packages/sklearn/base.py:329: UserWarning: Trying to unpickle estimator RandomForestRegressor from version 1.1.1 when using version 1.1.2. This might lead to breaking code or invalid results. Use at your own risk. For more info please refer to:\n",
      "https://scikit-learn.org/stable/model_persistence.html#security-maintainability-limitations\n",
      "  warnings.warn(\n"
     ]
    }
   ],
   "source": [
    "# Define which image paths to run\n",
    "RC_files = [\"L1 2.5, 5, 10 nM mixing assembly\",\"L2 2.5, 5, 10 nM\"]\n",
    "parent_experiment = RC_files[1]\n",
    "all_experiments = glob.glob(os.path.join(image_folder,parent_experiment,\"*\"))\n",
    "#all_experiments = [glob.glob(os.path.join(\"../Images/Training/*\"))]\n",
    "print(all_experiments)\n",
    "\n",
    "# Load models\n",
    "model_names = [\"RF_C-MC_I-P.sav\",\"RF_C_MC.sav\",\"RF_I_P.sav\"]\n",
    "rf_CMC_IP, rf_C_MC, rf_I_P = [pickle.load(open(os.path.join(model_folder,model), 'rb'))\\\n",
    "                              for model in model_names]\n",
    "\n",
    "# Define Features WHICH MUST MATCH WHAT ALL THREE MODELS WERE TRAINED ON\n",
    "features=[#'area',\n",
    "#        'equivalent_diameter', \n",
    "#        'orientation', \n",
    " #   'major_axis_length',\n",
    " #   'minor_axis_length',\n",
    "#    'perimeter',\n",
    "#        'min_intensity',\n",
    "#        'mean_intensity',\n",
    "#        'max_intensity',\n",
    "    'solidity',\n",
    "    'major_axis_length/minor_axis_length',\n",
    "    'perimeter/major_axis_length',\n",
    "    'perimeter/minor_axis_length',\n",
    "#          'feret_diameter_max',\n",
    "      'moments_hu-0',\n",
    "      'moments_hu-1',\n",
    "      'moments_hu-2',\n",
    "      'moments_hu-3',\n",
    "      'moments_hu-4',\n",
    "      'moments_hu-5',\n",
    "      'moments_hu-6',\n",
    "#    'eccentricity'\n",
    "         ]"
   ]
  },
  {
   "cell_type": "code",
   "execution_count": 3,
   "id": "e45422e4",
   "metadata": {},
   "outputs": [],
   "source": [
    "# Define key helper functions\n",
    "def assign_label(predicted_data,mode=\"C-MC_I-P\"):\n",
    "    '''\n",
    "    Given an array of arrays, get the max column, associate that with a name, and return the fully labeled list\n",
    "    Should work with 3 given modes\n",
    "    '''\n",
    "    valid_modes = [\"C-MC_I-P\",\"C_MC\",\"I_P\"]\n",
    "    if mode not in valid_modes:\n",
    "        print(f'Error: {mode} not supported')\n",
    "        return -1\n",
    "    label_arr = []\n",
    "    for data in predicted_data:\n",
    "        index = np.argmax(data)\n",
    "        if mode == valid_modes[0]:\n",
    "            if index == 0:\n",
    "                label_arr.append(\"Crystal\")\n",
    "            if index == 1:\n",
    "                label_arr.append(\"Incomplete\")\n",
    "                \n",
    "        elif mode == valid_modes[1]:\n",
    "            if index == 0:\n",
    "                label_arr.append(\"Crystal\")\n",
    "            if index == 1:\n",
    "                label_arr.append(\"Multiple Crystal\")\n",
    "                \n",
    "        elif mode == valid_modes[2]:\n",
    "            if index == 0:\n",
    "                label_arr.append(\"Incomplete\")\n",
    "            if index == 1:\n",
    "                label_arr.append(\"Poorly Segmented\")\n",
    "    return label_arr\n",
    "\n",
    "def apply_coloring(IS,df_labeled):\n",
    "    '''\n",
    "    To aid study of an image, apply a colored filter over image such that we can see which regions\n",
    "    are classified as which\n",
    "    Make borders slightly darker\n",
    "    '''\n",
    "    C_color = np.array([0,255,0])\n",
    "    MC_color = np.array([255,255,0])\n",
    "    I_color = np.array([255,0,0])\n",
    "    P_color = np.array([0,0,255])\n",
    "    color_arr = [C_color,MC_color,I_color,P_color]\n",
    "    match_arr = [\"Crystal\",\"Multiple Crystal\", \"Incomplete\", \"Poorly Segmented\"]\n",
    "    \n",
    "    region_arr = IS.grab_region_array(focused=False)\n",
    "    mod_image = cv2.cvtColor(IS.img2,cv2.COLOR_BGR2RGB)\n",
    "    mask_image = copy.deepcopy(mod_image)*0\n",
    "    for ii in np.arange(len(labeled_arr)):\n",
    "            id_label = df_labeled.at[ii,\"Labels\"] # assumed sorted\n",
    "            color = color_arr[match_arr.index(id_label)]\n",
    "            mask_image[region_arr[ii] > 0] = color\n",
    "    \n",
    "    final_image = cv2.addWeighted(mod_image,.5,mask_image,.5,0)\n",
    "    return final_image    "
   ]
  },
  {
   "cell_type": "code",
   "execution_count": 4,
   "id": "f77e96a9",
   "metadata": {},
   "outputs": [
    {
     "name": "stdout",
     "output_type": "stream",
     "text": [
      "../Images/Additional/L2 2.5, 5, 10 nM/L2 5 nM\n",
      "../Images/Additional/L2 2.5, 5, 10 nM/L2 5 nM/L2_5nM_04.bmp\n",
      "Image Segmenter on L2_5nM_04 created!\n"
     ]
    },
    {
     "name": "stderr",
     "output_type": "stream",
     "text": [
      "/home/jacob/Desktop/Mirkin/colloidal_crystal_ML/Notebooks/../Utility/segmentation_utils.py:170: RuntimeWarning: divide by zero encountered in divide\n",
      "  clusters['major_axis_length/minor_axis_length'] = clusters['major_axis_length']/clusters['minor_axis_length']\n",
      "/home/jacob/Desktop/Mirkin/colloidal_crystal_ML/Notebooks/../Utility/segmentation_utils.py:170: RuntimeWarning: invalid value encountered in divide\n",
      "  clusters['major_axis_length/minor_axis_length'] = clusters['major_axis_length']/clusters['minor_axis_length']\n",
      "/home/jacob/Desktop/Mirkin/colloidal_crystal_ML/Notebooks/../Utility/segmentation_utils.py:171: RuntimeWarning: invalid value encountered in divide\n",
      "  clusters['perimeter/major_axis_length'] = clusters['perimeter']/clusters['major_axis_length']\n",
      "/home/jacob/Desktop/Mirkin/colloidal_crystal_ML/Notebooks/../Utility/segmentation_utils.py:172: RuntimeWarning: invalid value encountered in divide\n",
      "  clusters['perimeter/minor_axis_length'] = clusters['perimeter']/clusters['minor_axis_length']\n",
      "/home/jacob/anaconda3/envs/colloidal_crystal/lib/python3.9/site-packages/sklearn/base.py:493: FutureWarning: The feature names should match those that were passed during fit. Starting version 1.2, an error will be raised.\n",
      "Feature names unseen at fit time:\n",
      "- moments_hu-4\n",
      "- moments_hu-6\n",
      "Feature names seen at fit time, yet now missing:\n",
      "- area\n",
      "- feret_diameter_max\n",
      "- major_axis_length\n",
      "- max_intensity\n",
      "- minor_axis_length\n",
      "- ...\n",
      "\n",
      "  warnings.warn(message, FutureWarning)\n"
     ]
    },
    {
     "name": "stdout",
     "output_type": "stream",
     "text": [
      "[ 1  2  3  4  5  6  7  8  9 10 11 12 13 14 15 16 17 18 19 20 21 22 23 24\n",
      " 25 26 27 28 29 30 31 32 33 34 35 36 37 38 39 40 41 42 43 44 45 46 47 48\n",
      " 49 50 51 52 53 54 55 56 57 58 59 60 61 62 63 64 65 66 67 68 69 70 71 72\n",
      " 73 74 75 76 77 78 79 80 81 82 83 84]\n"
     ]
    },
    {
     "ename": "ValueError",
     "evalue": "X has 11 features, but RandomForestRegressor is expecting 15 features as input.",
     "output_type": "error",
     "traceback": [
      "\u001b[0;31m---------------------------------------------------------------------------\u001b[0m",
      "\u001b[0;31mValueError\u001b[0m                                Traceback (most recent call last)",
      "Input \u001b[0;32mIn [4]\u001b[0m, in \u001b[0;36m<cell line: 2>\u001b[0;34m()\u001b[0m\n\u001b[1;32m     17\u001b[0m \u001b[38;5;66;03m### Split Crystal & Multicrystal from Incomplete & Poorly Segmented###\u001b[39;00m\n\u001b[1;32m     18\u001b[0m \u001b[38;5;66;03m# Split Data\u001b[39;00m\n\u001b[1;32m     19\u001b[0m X\u001b[38;5;241m=\u001b[39mdf_image[features]\n\u001b[0;32m---> 21\u001b[0m predicted_data \u001b[38;5;241m=\u001b[39m \u001b[43mrf_CMC_IP\u001b[49m\u001b[38;5;241;43m.\u001b[39;49m\u001b[43mpredict\u001b[49m\u001b[43m(\u001b[49m\u001b[43mX\u001b[49m\u001b[43m)\u001b[49m\n\u001b[1;32m     22\u001b[0m labeled_arr \u001b[38;5;241m=\u001b[39m assign_label(predicted_data)\n\u001b[1;32m     23\u001b[0m df_image[\u001b[38;5;124m'\u001b[39m\u001b[38;5;124mLabels\u001b[39m\u001b[38;5;124m'\u001b[39m] \u001b[38;5;241m=\u001b[39m labeled_arr\n",
      "File \u001b[0;32m~/anaconda3/envs/colloidal_crystal/lib/python3.9/site-packages/sklearn/ensemble/_forest.py:991\u001b[0m, in \u001b[0;36mForestRegressor.predict\u001b[0;34m(self, X)\u001b[0m\n\u001b[1;32m    989\u001b[0m check_is_fitted(\u001b[38;5;28mself\u001b[39m)\n\u001b[1;32m    990\u001b[0m \u001b[38;5;66;03m# Check data\u001b[39;00m\n\u001b[0;32m--> 991\u001b[0m X \u001b[38;5;241m=\u001b[39m \u001b[38;5;28;43mself\u001b[39;49m\u001b[38;5;241;43m.\u001b[39;49m\u001b[43m_validate_X_predict\u001b[49m\u001b[43m(\u001b[49m\u001b[43mX\u001b[49m\u001b[43m)\u001b[49m\n\u001b[1;32m    993\u001b[0m \u001b[38;5;66;03m# Assign chunk of trees to jobs\u001b[39;00m\n\u001b[1;32m    994\u001b[0m n_jobs, _, _ \u001b[38;5;241m=\u001b[39m _partition_estimators(\u001b[38;5;28mself\u001b[39m\u001b[38;5;241m.\u001b[39mn_estimators, \u001b[38;5;28mself\u001b[39m\u001b[38;5;241m.\u001b[39mn_jobs)\n",
      "File \u001b[0;32m~/anaconda3/envs/colloidal_crystal/lib/python3.9/site-packages/sklearn/ensemble/_forest.py:605\u001b[0m, in \u001b[0;36mBaseForest._validate_X_predict\u001b[0;34m(self, X)\u001b[0m\n\u001b[1;32m    602\u001b[0m \u001b[38;5;124;03m\"\"\"\u001b[39;00m\n\u001b[1;32m    603\u001b[0m \u001b[38;5;124;03mValidate X whenever one tries to predict, apply, predict_proba.\"\"\"\u001b[39;00m\n\u001b[1;32m    604\u001b[0m check_is_fitted(\u001b[38;5;28mself\u001b[39m)\n\u001b[0;32m--> 605\u001b[0m X \u001b[38;5;241m=\u001b[39m \u001b[38;5;28;43mself\u001b[39;49m\u001b[38;5;241;43m.\u001b[39;49m\u001b[43m_validate_data\u001b[49m\u001b[43m(\u001b[49m\u001b[43mX\u001b[49m\u001b[43m,\u001b[49m\u001b[43m \u001b[49m\u001b[43mdtype\u001b[49m\u001b[38;5;241;43m=\u001b[39;49m\u001b[43mDTYPE\u001b[49m\u001b[43m,\u001b[49m\u001b[43m \u001b[49m\u001b[43maccept_sparse\u001b[49m\u001b[38;5;241;43m=\u001b[39;49m\u001b[38;5;124;43m\"\u001b[39;49m\u001b[38;5;124;43mcsr\u001b[39;49m\u001b[38;5;124;43m\"\u001b[39;49m\u001b[43m,\u001b[49m\u001b[43m \u001b[49m\u001b[43mreset\u001b[49m\u001b[38;5;241;43m=\u001b[39;49m\u001b[38;5;28;43;01mFalse\u001b[39;49;00m\u001b[43m)\u001b[49m\n\u001b[1;32m    606\u001b[0m \u001b[38;5;28;01mif\u001b[39;00m issparse(X) \u001b[38;5;129;01mand\u001b[39;00m (X\u001b[38;5;241m.\u001b[39mindices\u001b[38;5;241m.\u001b[39mdtype \u001b[38;5;241m!=\u001b[39m np\u001b[38;5;241m.\u001b[39mintc \u001b[38;5;129;01mor\u001b[39;00m X\u001b[38;5;241m.\u001b[39mindptr\u001b[38;5;241m.\u001b[39mdtype \u001b[38;5;241m!=\u001b[39m np\u001b[38;5;241m.\u001b[39mintc):\n\u001b[1;32m    607\u001b[0m     \u001b[38;5;28;01mraise\u001b[39;00m \u001b[38;5;167;01mValueError\u001b[39;00m(\u001b[38;5;124m\"\u001b[39m\u001b[38;5;124mNo support for np.int64 index based sparse matrices\u001b[39m\u001b[38;5;124m\"\u001b[39m)\n",
      "File \u001b[0;32m~/anaconda3/envs/colloidal_crystal/lib/python3.9/site-packages/sklearn/base.py:600\u001b[0m, in \u001b[0;36mBaseEstimator._validate_data\u001b[0;34m(self, X, y, reset, validate_separately, **check_params)\u001b[0m\n\u001b[1;32m    597\u001b[0m     out \u001b[38;5;241m=\u001b[39m X, y\n\u001b[1;32m    599\u001b[0m \u001b[38;5;28;01mif\u001b[39;00m \u001b[38;5;129;01mnot\u001b[39;00m no_val_X \u001b[38;5;129;01mand\u001b[39;00m check_params\u001b[38;5;241m.\u001b[39mget(\u001b[38;5;124m\"\u001b[39m\u001b[38;5;124mensure_2d\u001b[39m\u001b[38;5;124m\"\u001b[39m, \u001b[38;5;28;01mTrue\u001b[39;00m):\n\u001b[0;32m--> 600\u001b[0m     \u001b[38;5;28;43mself\u001b[39;49m\u001b[38;5;241;43m.\u001b[39;49m\u001b[43m_check_n_features\u001b[49m\u001b[43m(\u001b[49m\u001b[43mX\u001b[49m\u001b[43m,\u001b[49m\u001b[43m \u001b[49m\u001b[43mreset\u001b[49m\u001b[38;5;241;43m=\u001b[39;49m\u001b[43mreset\u001b[49m\u001b[43m)\u001b[49m\n\u001b[1;32m    602\u001b[0m \u001b[38;5;28;01mreturn\u001b[39;00m out\n",
      "File \u001b[0;32m~/anaconda3/envs/colloidal_crystal/lib/python3.9/site-packages/sklearn/base.py:400\u001b[0m, in \u001b[0;36mBaseEstimator._check_n_features\u001b[0;34m(self, X, reset)\u001b[0m\n\u001b[1;32m    397\u001b[0m     \u001b[38;5;28;01mreturn\u001b[39;00m\n\u001b[1;32m    399\u001b[0m \u001b[38;5;28;01mif\u001b[39;00m n_features \u001b[38;5;241m!=\u001b[39m \u001b[38;5;28mself\u001b[39m\u001b[38;5;241m.\u001b[39mn_features_in_:\n\u001b[0;32m--> 400\u001b[0m     \u001b[38;5;28;01mraise\u001b[39;00m \u001b[38;5;167;01mValueError\u001b[39;00m(\n\u001b[1;32m    401\u001b[0m         \u001b[38;5;124mf\u001b[39m\u001b[38;5;124m\"\u001b[39m\u001b[38;5;124mX has \u001b[39m\u001b[38;5;132;01m{\u001b[39;00mn_features\u001b[38;5;132;01m}\u001b[39;00m\u001b[38;5;124m features, but \u001b[39m\u001b[38;5;132;01m{\u001b[39;00m\u001b[38;5;28mself\u001b[39m\u001b[38;5;241m.\u001b[39m\u001b[38;5;18m__class__\u001b[39m\u001b[38;5;241m.\u001b[39m\u001b[38;5;18m__name__\u001b[39m\u001b[38;5;132;01m}\u001b[39;00m\u001b[38;5;124m \u001b[39m\u001b[38;5;124m\"\u001b[39m\n\u001b[1;32m    402\u001b[0m         \u001b[38;5;124mf\u001b[39m\u001b[38;5;124m\"\u001b[39m\u001b[38;5;124mis expecting \u001b[39m\u001b[38;5;132;01m{\u001b[39;00m\u001b[38;5;28mself\u001b[39m\u001b[38;5;241m.\u001b[39mn_features_in_\u001b[38;5;132;01m}\u001b[39;00m\u001b[38;5;124m features as input.\u001b[39m\u001b[38;5;124m\"\u001b[39m\n\u001b[1;32m    403\u001b[0m     )\n",
      "\u001b[0;31mValueError\u001b[0m: X has 11 features, but RandomForestRegressor is expecting 15 features as input."
     ]
    }
   ],
   "source": [
    "debug = []\n",
    "for experiment in all_experiments:\n",
    "    print(experiment)\n",
    "    df_experiment = pd.DataFrame()\n",
    "    experiment_images = glob.glob(os.path.join(experiment,'*')) # Beware non-images\n",
    "    \n",
    "    for individual_image in experiment_images:\n",
    "        print(individual_image)\n",
    "        IS = ImageSegmenter(individual_image)\n",
    "        df_image = IS.df\n",
    "\n",
    "        # Numerical errors (divide by 0)\n",
    "        df_image.replace([np.inf, -np.inf], np.nan, inplace=True)\n",
    "        for feature in features:\n",
    "            df_image.dropna(subset=[feature],inplace=True)\n",
    "            \n",
    "        ### Split Crystal & Multicrystal from Incomplete & Poorly Segmented###\n",
    "        # Split Data\n",
    "        X=df_image[features]\n",
    "\n",
    "        predicted_data = rf_CMC_IP.predict(X)\n",
    "        labeled_arr = assign_label(predicted_data)\n",
    "        df_image['Labels'] = labeled_arr\n",
    "        print(\"BIG SEPARATOR\")\n",
    "        print(np.unique(labeled_arr))\n",
    "        \n",
    "        #### Subdividing further ####\n",
    "        df_image_sublist = []\n",
    "        for label in ['Crystal','Incomplete']:\n",
    "            df_image_temp = df_image[df_image['Labels'] == label]\n",
    "            rf_temp = rf_C_MC if label == 'Crystal' else rf_I_P\n",
    "            label_mode = \"C_MC\" if label == 'Crystal' else \"I_P\"\n",
    "            X_temp = df_image_temp[features]\n",
    "\n",
    "            try:\n",
    "                predicted_data_temp = rf_temp.predict(X_temp)\n",
    "            except:\n",
    "                print(f'Prediction failed on {label}, maybe 0 elements?')\n",
    "                predicted_data_temp = []\n",
    "            print(predicted_data_temp)\n",
    "            labeled_arr = assign_label(predicted_data_temp,mode=label_mode)\n",
    "            df_image_temp['Labels'] = labeled_arr\n",
    "            print(np.unique(df_image_temp[\"Labels\"]))\n",
    "            df_image_sublist.append(df_image_temp)\n",
    "\n",
    "        df_image = pd.concat(df_image_sublist)\n",
    "        df_image.sort_values(by=\"Region\",inplace=True)\n",
    "        debug = (individual_image,df_image)\n",
    "\n",
    "        df_experiment = pd.concat([df_experiment,df_image])\n",
    "    print(np.unique(df_image[\"Labels\"]))\n",
    "    df_experiment.to_csv(os.path.join(result_folder,experiment.split(\"/\")[-1]))\n"
   ]
  },
  {
   "cell_type": "code",
   "execution_count": null,
   "id": "66a0cdfd",
   "metadata": {},
   "outputs": [],
   "source": [
    "test = apply_coloring(ImageSegmenter(debug[0]),debug[1])\n",
    "print(np.unique(debug[1][\"Labels\"]))\n",
    "plt.figure(figsize = (10,10))\n",
    "plt.imshow(test)"
   ]
  },
  {
   "cell_type": "code",
   "execution_count": null,
   "id": "32072377",
   "metadata": {},
   "outputs": [],
   "source": [
    "debug_IS = ImageSegmenter(debug[0])\n",
    "plt.imshow(debug_IS.markers)"
   ]
  },
  {
   "cell_type": "code",
   "execution_count": null,
   "id": "76ab1121",
   "metadata": {},
   "outputs": [],
   "source": [
    "import matplotlib.pyplot as plt\n",
    "plt.imshow(IS.thresh)"
   ]
  },
  {
   "cell_type": "code",
   "execution_count": null,
   "id": "17f7d31d",
   "metadata": {},
   "outputs": [],
   "source": [
    "# Quick check so one can see what region was \"forgotten\" by image segmenter\n",
    "img_forgotten = copy.deepcopy(IS.img2)\n",
    "img_forgotten[IS.markers > 10] = 0\n",
    "plt.imshow(img_forgotten)"
   ]
  },
  {
   "cell_type": "code",
   "execution_count": null,
   "id": "777a84fa",
   "metadata": {},
   "outputs": [],
   "source": [
    "# load first RF model from disk\n",
    "model_name = \"../Models/RF_C-MC_I-P.sav\"\n",
    "loaded_model = pickle.load(open(model_name, 'rb'))\n"
   ]
  },
  {
   "cell_type": "markdown",
   "id": "2bfb257b",
   "metadata": {},
   "source": [
    "# Prepare data\n",
    "df_image_C_MC = df_image[df_image['Labels'] == 'Crystal']\n",
    "df_image_I_P = df_image[df_image['Labels'] == 'Incomplete']\n",
    "\n",
    "X_C_MC = df_image_C_MC[features]\n",
    "X_I_P = df_image_I_P[features]\n",
    "\n",
    "predicted_data_C_MC = rf_C_MC.predict(X_C_MC)\n",
    "predicted_data_I_P = rf_I_P.predict(X_I_P)\n",
    "\n",
    "labeled_arr = assign_label(predicted_data_C_MC)\n",
    "df_image_C_MC['Labels'] = labeled_arr\n",
    "labeled_arr = assign_label(predicted_data_I_P)\n",
    "df_image_I_P['Labels'] = labeled_arr\n",
    "\n",
    "df_image = pd.concat([df_image_C_MC,df_image_I_P])\n",
    "df_image.sort_values(by=\"Region\")\n",
    "df_experiment = pd.concat([df_experiment,df_image])\n",
    "\n",
    "df = IS.df\n",
    "#print(np.unique(df[\"Filename\"]))\n",
    "\n",
    "# Modify Data (Remove illegal data OR set different runtime)\n",
    "\n",
    "# Numerical errors (divide by 0)\n",
    "df.replace([np.inf, -np.inf], np.nan, inplace=True)\n",
    "for feature in features:\n",
    "    df.dropna(subset=[feature],inplace=True)\n",
    "\n",
    "# Split Data (TO-DO)\n",
    "X=df[features]\n",
    "\n",
    "# Make adjustments to data\n",
    "X=X # For RF, feature normalization NOT NEEDED\n",
    "\n",
    "# NOTE (2022.08.24): What do I have to do with the classification afterwards???\n",
    "\n",
    "#y\n",
    "#ohe = OneHotEncoder(sparse=False)\n",
    "#y = ohe.fit_transform(df[[label]])\n",
    "\n",
    "#X_train, X_test, y_train, y_test = train_test_split(X, y, test_size=.2)"
   ]
  },
  {
   "cell_type": "code",
   "execution_count": null,
   "id": "3639578f",
   "metadata": {},
   "outputs": [],
   "source": [
    "\n",
    "        \n",
    "labeled_arr = assign_label(predicted_data)\n",
    "IS.df['Labels'] = labeled_arr\n",
    "IS.override_exists=True\n",
    "IS.create_csv()\n",
    "print(IS._csv_file)"
   ]
  },
  {
   "cell_type": "code",
   "execution_count": null,
   "id": "d36b6069",
   "metadata": {},
   "outputs": [],
   "source": [
    "df_Crystal = IS.df[IS.df[\"Labels\"] == \"Crystal\"]\n",
    "df_Incomplete = IS.df[IS.df[\"Labels\"] != \"Crystal\"]\n",
    "print(f'Num Crystals: {len(df_Crystal)} \\nNum Incomplete: {len(df_Incomplete)}')"
   ]
  },
  {
   "cell_type": "code",
   "execution_count": null,
   "id": "576cdf5c",
   "metadata": {},
   "outputs": [],
   "source": [
    "\n",
    "for ii in np.arange(len(IS.region_arr)):\n",
    "    clear_output(wait=False)\n",
    "    plt.imshow(IS.region_arr[ii])\n",
    "    plt.show()\n",
    "    print(f'Model Thinks: {labeled_arr[ii]}')\n",
    "    input('Next (hit enter)')\n"
   ]
  },
  {
   "cell_type": "code",
   "execution_count": null,
   "id": "2122803e",
   "metadata": {},
   "outputs": [],
   "source": []
  }
 ],
 "metadata": {
  "kernelspec": {
   "display_name": "Python 3",
   "language": "python",
   "name": "python3"
  },
  "language_info": {
   "codemirror_mode": {
    "name": "ipython",
    "version": 3
   },
   "file_extension": ".py",
   "mimetype": "text/x-python",
   "name": "python",
   "nbconvert_exporter": "python",
   "pygments_lexer": "ipython3",
   "version": "3.9.12"
  }
 },
 "nbformat": 4,
 "nbformat_minor": 5
}
