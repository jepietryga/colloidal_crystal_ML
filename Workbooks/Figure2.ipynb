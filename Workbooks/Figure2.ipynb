{
 "cells": [
  {
   "cell_type": "code",
   "execution_count": 1,
   "metadata": {},
   "outputs": [],
   "source": [
    "# Figure 2 needs to create the images w/ thick region borders\n",
    "import sys\n",
    "import numpy as np\n",
    "sys.path.append(\"..\")\n",
    "import glob\n",
    "import os\n",
    "import matplotlib.pyplot as plt\n",
    "import cv2\n",
    "\n",
    "from facet_ml.segmentation.segmenter import ImageSegmenter\n",
    "\n",
    "parent_folder = \"../Images/Figure2_Images/\"\n",
    "image_folders = glob.glob(os.path.join(parent_folder,\"*\"))"
   ]
  },
  {
   "cell_type": "code",
   "execution_count": 2,
   "metadata": {},
   "outputs": [
    {
     "name": "stdout",
     "output_type": "stream",
     "text": [
      "(860, 1280)\n",
      "(860, 1280)\n",
      "(860, 1280)\n",
      "(5, 5)\n"
     ]
    },
    {
     "data": {
      "text/plain": [
       "array([[[204,   0, 102],\n",
       "        [204,   0, 102],\n",
       "        [204,   0, 102],\n",
       "        ...,\n",
       "        [204,   0, 102],\n",
       "        [204,   0, 102],\n",
       "        [204,   0, 102]],\n",
       "\n",
       "       [[204,   0, 102],\n",
       "        [204,   0, 102],\n",
       "        [204,   0, 102],\n",
       "        ...,\n",
       "        [204,   0, 102],\n",
       "        [204,   0, 102],\n",
       "        [204,   0, 102]],\n",
       "\n",
       "       [[204,   0, 102],\n",
       "        [204,   0, 102],\n",
       "        [204,   0, 102],\n",
       "        ...,\n",
       "        [204,   0, 102],\n",
       "        [204,   0, 102],\n",
       "        [204,   0, 102]],\n",
       "\n",
       "       ...,\n",
       "\n",
       "       [[204,   0, 102],\n",
       "        [ 92,  92,  92],\n",
       "        [ 91,  91,  91],\n",
       "        ...,\n",
       "        [ 89,  89,  89],\n",
       "        [ 89,  89,  89],\n",
       "        [204,   0, 102]],\n",
       "\n",
       "       [[204,   0, 102],\n",
       "        [ 90,  90,  90],\n",
       "        [ 88,  88,  88],\n",
       "        ...,\n",
       "        [ 86,  86,  86],\n",
       "        [ 89,  89,  89],\n",
       "        [204,   0, 102]],\n",
       "\n",
       "       [[204,   0, 102],\n",
       "        [204,   0, 102],\n",
       "        [204,   0, 102],\n",
       "        ...,\n",
       "        [204,   0, 102],\n",
       "        [204,   0, 102],\n",
       "        [204,   0, 102]]], dtype=uint8)"
      ]
     },
     "execution_count": 2,
     "metadata": {},
     "output_type": "execute_result"
    }
   ],
   "source": [
    "\n",
    "img_example = \"/Users/jacobpietryga/Desktop/Academics/colloidal_crystal_ML/Images/Training/4 nM 1.bmp\"\n",
    "\n",
    "def get_marked_image(img,\n",
    "                     threshold_mode=\"ensemble\",\n",
    "                     edge_modification=\"localthresh\"):\n",
    "    IS = ImageSegmenter(img,\n",
    "                        threshold_mode=threshold_mode,\n",
    "                        edge_modification=edge_modification)\n",
    "    markers2 = IS.markers2\n",
    "    edges = IS.markers2.copy()\n",
    "    edges[edges > 0] = 0\n",
    "    edges[edges < 0] = 255\n",
    "    edge_logical = edges.astype(np.uint8)\n",
    "    edge_logical = cv2.dilate(edge_logical,(3,3),iterations=5)\n",
    "    img_oi = IS.image_working.copy()\n",
    "    img_oi[edge_logical.astype(bool)] = (204,0,102)\n",
    "    return img_oi\n",
    "\n",
    "get_marked_image(img_example)"
   ]
  },
  {
   "cell_type": "code",
   "execution_count": 9,
   "metadata": {},
   "outputs": [
    {
     "name": "stdout",
     "output_type": "stream",
     "text": [
      "['../Images/Figure2_Images/AuNP-octahedron/2013-08-02 Dried Octahedra 8_i007.jpg', '../Images/Figure2_Images/AuNP-octahedron/2013-08-02 Dried Octahedra 8_i006.jpg']\n",
      "['../Images/Figure2_Images/Calcite crystal/Screen Shot 2023-10-19 at 5.42.41 PM.png']\n",
      "['../Images/Figure2_Images/MOF_crystals/Screen Shot 2023-10-10 at 1.43.48 PM.png', '../Images/Figure2_Images/MOF_crystals/Screen Shot 2023-10-10 at 1.42.13 PM.png', '../Images/Figure2_Images/MOF_crystals/Screen Shot 2023-10-10 at 1.44.30 PM.png', '../Images/Figure2_Images/MOF_crystals/Screen Shot 2023-10-10 at 1.42.43 PM.png']\n",
      "['../Images/Figure2_Images/cube-60_mixing-F_oven-F_embed-SiO2/10.tif', '../Images/Figure2_Images/cube-60_mixing-F_oven-F_embed-SiO2/11.tif', '../Images/Figure2_Images/cube-60_mixing-F_oven-F_embed-SiO2/17.tif', '../Images/Figure2_Images/cube-60_mixing-F_oven-F_embed-SiO2/9.tif', '../Images/Figure2_Images/cube-60_mixing-F_oven-F_embed-SiO2/8.tif', '../Images/Figure2_Images/cube-60_mixing-F_oven-F_embed-SiO2/6.tif', '../Images/Figure2_Images/cube-60_mixing-F_oven-F_embed-SiO2/7.tif', '../Images/Figure2_Images/cube-60_mixing-F_oven-F_embed-SiO2/19.tif', '../Images/Figure2_Images/cube-60_mixing-F_oven-F_embed-SiO2/18.tif']\n",
      "['../Images/Figure2_Images/AuNP-cuboctahedron/2013-08-28 CO 60AA, 0KBr_i001.jpg']\n"
     ]
    }
   ],
   "source": [
    "threshold_mode = \"segment_anything\"\n",
    "folder = f\"Fig2_{threshold_mode}\"\n",
    "for image_folder in image_folders:\n",
    "    subfolder= image_folder.split(\"/\")[-1]\n",
    "    images = glob.glob(os.path.join(image_folder,\"*\"))\n",
    "    print(images)\n",
    "    for image in images:\n",
    "        img_id = \".\".join(image.split(\"/\")[-1].split(\".\")[:-1])\n",
    "        folder_path = os.path.join(folder,subfolder)\n",
    "        os.makedirs(folder_path,exist_ok=True)\n",
    "        file_path = os.path.join(folder_path,f\"{img_id}.png\")\n",
    "        marked_img = get_marked_image(image,\n",
    "                                      threshold_mode=threshold_mode)\n",
    "        cv2.imwrite(file_path,marked_img)\n",
    "        \n"
   ]
  },
  {
   "cell_type": "code",
   "execution_count": 4,
   "metadata": {},
   "outputs": [
    {
     "data": {
      "text/plain": [
       "['../Images/Figure2_Images/AuNP-octahedron',\n",
       " '../Images/Figure2_Images/Calcite crystal',\n",
       " '../Images/Figure2_Images/MOF_crystals',\n",
       " '../Images/Figure2_Images/cube-60_mixing-F_oven-F_embed-SiO2',\n",
       " '../Images/Figure2_Images/AuNP-cuboctahedron']"
      ]
     },
     "execution_count": 4,
     "metadata": {},
     "output_type": "execute_result"
    }
   ],
   "source": [
    "image_folders"
   ]
  }
 ],
 "metadata": {
  "kernelspec": {
   "display_name": "colloidal_crystal_env",
   "language": "python",
   "name": "python3"
  },
  "language_info": {
   "codemirror_mode": {
    "name": "ipython",
    "version": 3
   },
   "file_extension": ".py",
   "mimetype": "text/x-python",
   "name": "python",
   "nbconvert_exporter": "python",
   "pygments_lexer": "ipython3",
   "version": "3.10.12"
  },
  "orig_nbformat": 4
 },
 "nbformat": 4,
 "nbformat_minor": 2
}
