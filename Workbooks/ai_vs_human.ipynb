{
 "cells": [
  {
   "attachments": {},
   "cell_type": "markdown",
   "metadata": {},
   "source": [
    "# AI vs. Human\n",
    "Assuming the same image segmenter and models, results are predetermined for labeling.\n",
    "Thus, we can easily compare on an image-to-image basis the assigned Region and its ML-assigned label (\"Labels\") and compare against the human assigned labels (\"Labels_RC\" for Rachel, can change based on person)"
   ]
  },
  {
   "cell_type": "code",
   "execution_count": null,
   "metadata": {},
   "outputs": [],
   "source": [
    "# Imports\n",
    "import sys\n",
    "sys.path.append(\"..\")\n",
    "from Utility.segmentation_utils import *\n",
    "import Utility.model_utils as mu\n",
    "import matplotlib.pyplot as plt"
   ]
  },
  {
   "cell_type": "code",
   "execution_count": null,
   "metadata": {},
   "outputs": [],
   "source": [
    "### DEFINE VARIABLES OF INTEREST HERE ###\n",
    "\n",
    "# Define folder path of interest, image of interest\n",
    "folder_path = \"../Images/Organized images 20230613/L-3_nM-10_au10_mixing-T_oven-T_embed-Ag\"\n",
    "image_name = \"L-3_nM-3_au10_mixing-T_oven-T_embed-Ag_01.tif\"\n",
    "\n",
    "# Runtime settings to compare against\n",
    "edge = \"darkbright\"\n",
    "thresh = \"ensemble\""
   ]
  }
 ],
 "metadata": {
  "language_info": {
   "name": "python"
  },
  "orig_nbformat": 4
 },
 "nbformat": 4,
 "nbformat_minor": 2
}
