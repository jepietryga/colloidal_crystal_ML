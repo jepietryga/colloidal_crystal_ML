{
 "cells": [
  {
   "attachments": {},
   "cell_type": "markdown",
   "metadata": {},
   "source": [
    "# AI vs. Human\n",
    "Assuming the same image segmenter and models, results are predetermined for labeling.\n",
    "Thus, we can easily compare on an image-to-image basis the assigned Region and its ML-assigned label (\"Labels\") and compare against the human assigned labels (\"Labels_RC\" for Rachel, can change based on person)"
   ]
  },
  {
   "cell_type": "code",
   "execution_count": 1,
   "metadata": {},
   "outputs": [],
   "source": [
    "# Imports\n",
    "import sys\n",
    "sys.path.append(\"..\")\n",
    "from Utility.segmentation_utils import *\n",
    "import Utility.model_utils as mu\n",
    "import matplotlib.pyplot as plt\n",
    "import os"
   ]
  },
  {
   "cell_type": "code",
   "execution_count": 2,
   "metadata": {},
   "outputs": [
    {
     "ename": "AssertionError",
     "evalue": "",
     "output_type": "error",
     "traceback": [
      "\u001b[0;31m---------------------------------------------------------------------------\u001b[0m",
      "\u001b[0;31mAssertionError\u001b[0m                            Traceback (most recent call last)",
      "\u001b[1;32m/home/jacob/Desktop/Academics/Mirkin/colloidal_crystal_ML/Workbooks/ai_vs_human.ipynb Cell 3\u001b[0m in \u001b[0;36m<cell line: 19>\u001b[0;34m()\u001b[0m\n\u001b[1;32m     <a href='vscode-notebook-cell://ssh-remote%2Boffice/home/jacob/Desktop/Academics/Mirkin/colloidal_crystal_ML/Workbooks/ai_vs_human.ipynb#W2sdnNjb2RlLXJlbW90ZQ%3D%3D?line=16'>17</a>\u001b[0m \u001b[39m# Check that the files exist\u001b[39;00m\n\u001b[1;32m     <a href='vscode-notebook-cell://ssh-remote%2Boffice/home/jacob/Desktop/Academics/Mirkin/colloidal_crystal_ML/Workbooks/ai_vs_human.ipynb#W2sdnNjb2RlLXJlbW90ZQ%3D%3D?line=17'>18</a>\u001b[0m \u001b[39massert\u001b[39;00m(os\u001b[39m.\u001b[39mpath\u001b[39m.\u001b[39mexists(img_folder))\n\u001b[0;32m---> <a href='vscode-notebook-cell://ssh-remote%2Boffice/home/jacob/Desktop/Academics/Mirkin/colloidal_crystal_ML/Workbooks/ai_vs_human.ipynb#W2sdnNjb2RlLXJlbW90ZQ%3D%3D?line=18'>19</a>\u001b[0m \u001b[39massert\u001b[39;00m(os\u001b[39m.\u001b[39mpath\u001b[39m.\u001b[39mexists(img_path))\n\u001b[1;32m     <a href='vscode-notebook-cell://ssh-remote%2Boffice/home/jacob/Desktop/Academics/Mirkin/colloidal_crystal_ML/Workbooks/ai_vs_human.ipynb#W2sdnNjb2RlLXJlbW90ZQ%3D%3D?line=19'>20</a>\u001b[0m \u001b[39massert\u001b[39;00m(os\u001b[39m.\u001b[39mpath\u001b[39m.\u001b[39mexists(csv_path))\n",
      "\u001b[0;31mAssertionError\u001b[0m: "
     ]
    }
   ],
   "source": [
    "### DEFINE VARIABLES OF INTEREST HERE ###\n",
    "# vvv Three key values to change vvv\n",
    "\n",
    "## Define folder path of interest, image of interest, and csv path for folder of interest\n",
    "# Note: Can maybe automate this, but name changing makes it difficult\n",
    "img_folder = \"../Images/Organized images 20230613/L-3_nM-10_au10_mixing-T_oven-T_embed-Ag\"\n",
    "image_name = \"L-3_nM-3_au10_mixing-T_oven-T_embed-Ag_01.tif\"\n",
    "csv_path = \"../Results/Organized images 20230613/L-3_nM-10_au10_mixing-T_oven-T_embed-Ag_edge-darkbright_thresh-ensemble.csv\"\n",
    "\n",
    "# Runtime settings to compare against\n",
    "edge = \"darkbright\"\n",
    "thresh = \"ensemble\"\n",
    "\n",
    "# Derive variables\n",
    "img_path = os.path.join(img_folder,image_name)\n",
    "\n",
    "# Check that the files exist\n",
    "assert(os.path.exists(img_folder))\n",
    "assert(os.path.exists(img_path))\n",
    "assert(os.path.exists(csv_path))"
   ]
  },
  {
   "cell_type": "code",
   "execution_count": null,
   "metadata": {},
   "outputs": [],
   "source": [
    "# Get the already processed csv\n"
   ]
  }
 ],
 "metadata": {
  "kernelspec": {
   "display_name": "cc_env",
   "language": "python",
   "name": "python3"
  },
  "language_info": {
   "codemirror_mode": {
    "name": "ipython",
    "version": 3
   },
   "file_extension": ".py",
   "mimetype": "text/x-python",
   "name": "python",
   "nbconvert_exporter": "python",
   "pygments_lexer": "ipython3",
   "version": "3.9.15"
  },
  "orig_nbformat": 4
 },
 "nbformat": 4,
 "nbformat_minor": 2
}
