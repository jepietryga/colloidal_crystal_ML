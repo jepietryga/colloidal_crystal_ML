{
 "cells": [
  {
   "attachments": {},
   "cell_type": "markdown",
   "metadata": {},
   "source": [
    "# AI vs. Human\n",
    "Assuming the same image segmenter and models, results are predetermined for labeling.\n",
    "Thus, we can easily compare on an image-to-image basis the assigned Region and its ML-assigned label (\"Labels\") and compare against the human assigned labels (\"Labels_RC\" for Rachel, can change based on person)"
   ]
  },
  {
   "cell_type": "code",
   "execution_count": null,
   "metadata": {},
   "outputs": [],
   "source": []
  }
 ],
 "metadata": {
  "language_info": {
   "name": "python"
  },
  "orig_nbformat": 4
 },
 "nbformat": 4,
 "nbformat_minor": 2
}
