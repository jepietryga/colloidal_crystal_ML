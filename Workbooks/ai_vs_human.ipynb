{
 "cells": [
  {
   "attachments": {},
   "cell_type": "markdown",
   "metadata": {},
   "source": [
    "# AI vs. Human\n",
    "Assuming the same image segmenter and models, results are predetermined for labeling.\n",
    "Thus, we can easily compare on an image-to-image basis the assigned Region and its ML-assigned label (\"Labels\") and compare against the human assigned labels (\"Labels_RC\" for Rachel, can change based on person)"
   ]
  },
  {
   "cell_type": "code",
   "execution_count": 1,
   "metadata": {},
   "outputs": [],
   "source": [
    "# Imports\n",
    "import sys\n",
    "sys.path.append(\"..\")\n",
    "from Utility.segmentation_utils import *\n",
    "import Utility.model_utils as mu\n",
    "import matplotlib.pyplot as plt\n",
    "import os\n",
    "import time"
   ]
  },
  {
   "cell_type": "code",
   "execution_count": 2,
   "metadata": {},
   "outputs": [],
   "source": [
    "### DEFINE VARIABLES OF INTEREST HERE ###\n",
    "\n",
    "# vvv Four values to change vvv\n",
    "# img_folder : Exact path to folder of interest (typically in \"../Images\")\n",
    "# image_name : Exact name (not path!) of the image within the folder we want to look at\n",
    "# csv_path   : Exact path to results csv file associated with runtime parameters of interest (NOTE: may be easier to re-run model as needed)\n",
    "# id_human   : Identification of who is classifying to make things easier for the user\n",
    "\n",
    "## Define folder path of interest, image of interest, and csv path for folder of interest\n",
    "# Note: Can maybe automate this, but name changing makes it difficult\n",
    "img_folder = \"../Images/Organized images 20230613/L-3_nM-3_au10_mixing-T_oven-T_embed-Ag\"\n",
    "image_name = \"L-3_nM-3_au10_mixing-T_oven-T_embed-Ag_01.tif\"\n",
    "csv_path = \"../Results/Organized images 20230613_Results/L-3_nM-3_au10_mixing-T_oven-T_embed-Ag_edge-darkbright_thresh-ensemble.csv\"\n",
    "id_human = \"RC\"\n",
    "\n",
    "# Runtime settings to compare against\n",
    "edge = \"darkbright\"\n",
    "thresh = \"ensemble\"\n",
    "\n",
    "# Derive variables\n",
    "img_path = os.path.join(img_folder,image_name)\n",
    "save_folder = f\"ai_human_labeling/{img_folder.split('/')[-1]}\"\n",
    "os.makedirs(save_folder,exist_ok=True)\n",
    "\n",
    "# Check that the files exist. If an assert fails, check the naming!\n",
    "assert(os.path.exists(img_folder))\n",
    "assert(os.path.exists(img_path))\n",
    "assert(os.path.exists(csv_path))"
   ]
  },
  {
   "cell_type": "code",
   "execution_count": 3,
   "metadata": {},
   "outputs": [
    {
     "name": "stderr",
     "output_type": "stream",
     "text": [
      "/home/jacob/anaconda3/envs/colloidal_crystal_env/lib/python3.9/site-packages/sklearn/base.py:299: UserWarning: Trying to unpickle estimator DecisionTreeClassifier from version 1.2.0 when using version 1.2.1. This might lead to breaking code or invalid results. Use at your own risk. For more info please refer to:\n",
      "https://scikit-learn.org/stable/model_persistence.html#security-maintainability-limitations\n",
      "  warnings.warn(\n",
      "/home/jacob/anaconda3/envs/colloidal_crystal_env/lib/python3.9/site-packages/sklearn/base.py:299: UserWarning: Trying to unpickle estimator RandomForestClassifier from version 1.2.0 when using version 1.2.1. This might lead to breaking code or invalid results. Use at your own risk. For more info please refer to:\n",
      "https://scikit-learn.org/stable/model_persistence.html#security-maintainability-limitations\n",
      "  warnings.warn(\n"
     ]
    },
    {
     "name": "stdout",
     "output_type": "stream",
     "text": [
      "(3, 3)\n"
     ]
    },
    {
     "name": "stderr",
     "output_type": "stream",
     "text": [
      "/home/jacob/Desktop/Academics/Mirkin/colloidal_crystal_ML/Workbooks/../Utility/segmentation_utils.py:432: RuntimeWarning: divide by zero encountered in divide\n",
      "  clusters['major_axis_length/minor_axis_length'] = clusters['major_axis_length']/clusters['minor_axis_length']\n",
      "/home/jacob/Desktop/Academics/Mirkin/colloidal_crystal_ML/Workbooks/../Utility/segmentation_utils.py:434: RuntimeWarning: invalid value encountered in divide\n",
      "  clusters['perimeter/minor_axis_length'] = clusters['perimeter']/clusters['minor_axis_length']\n"
     ]
    }
   ],
   "source": [
    "# Get the already processed csv\n",
    "df = pd.read_csv(csv_path)\n",
    "img_logical = df.Filename.str.contains(image_name)\n",
    "df_img = df[img_logical]\n",
    "\n",
    "IS = ImageSegmenter(img_path,threshold_mode=thresh,edge_modification=edge)\n",
    "\n",
    "# Set index to be Region based\n",
    "df_IS = IS.df.set_index(\"Region\")\n",
    "df_img = df_img.set_index(\"Region\")\n",
    "\n",
    "# Define label_dict\n",
    "label_dict = {\"C\":\"Crystal\",\n",
    "              \"MC\":\"Multiple Crystal\",\n",
    "              \"I\":\"Incomplete\",\n",
    "              \"P\":\"Poorly Segmented\"\n",
    "              }"
   ]
  },
  {
   "cell_type": "code",
   "execution_count": 4,
   "metadata": {},
   "outputs": [
    {
     "name": "stdout",
     "output_type": "stream",
     "text": [
      "Region issue: 10\n",
      "Region issue: 52\n"
     ]
    }
   ],
   "source": [
    "## TESTING CELL: Ensure that the regions being observed are commensurate w/ regions previously acquired\n",
    "df_region_list = df_img.index.to_list()\n",
    "region_list = df_IS.index.to_list()\n",
    "\n",
    "comp_key = ['area','equivalent_diameter','major_axis_length','minor_axis_length']\n",
    "comp_check_arr = []\n",
    "for reg_id in region_list:\n",
    "    try:\n",
    "        row_1 = df_IS.loc[reg_id][comp_key].to_dict()\n",
    "        row_2 = df_img.loc[reg_id][comp_key].to_dict()\n",
    "    except:\n",
    "        print(f\"Region issue: {reg_id}\")\n",
    "        continue\n",
    "    res = True\n",
    "    for key,_ in row_1.items():\n",
    "        if np.round(row_1[key],2) != np.round(row_2[key],2):\n",
    "            print(row_1[key],row_2[key])\n",
    "            res = False\n",
    "    comp_check_arr.append(res)\n",
    "\n",
    "# If this fails, the ML csv *does not* line-up with the current IS's parameters\n",
    "assert(False not in np.unique(comp_check_arr))"
   ]
  },
  {
   "cell_type": "code",
   "execution_count": 5,
   "metadata": {},
   "outputs": [],
   "source": [
    "## Reading variables\n",
    "# These are defined here in case cells past this one die or are exited\n",
    "# IF THIS IS REFRESHED, PROGRESS BELOW IS LOST\n",
    "human_label_dict = {}"
   ]
  },
  {
   "cell_type": "code",
   "execution_count": 6,
   "metadata": {},
   "outputs": [
    {
     "data": {
      "image/png": "[encoded data removed]",
      "text/plain": [
       "<Figure size 640x480 with 1 Axes>"
      ]
     },
     "metadata": {},
     "output_type": "display_data"
    },
    {
     "name": "stdout",
     "output_type": "stream",
     "text": [
      "Region: 141\n",
      "140/140: Crystal\n",
      "Label (C, MC, I, P) or\n",
      "Move (Index_int)\n"
     ]
    }
   ],
   "source": [
    "## Analysis Cell\n",
    "region_img_list = list(IS.region_dict.items())\n",
    "\n",
    "ii = 0\n",
    "while ii < len(region_img_list):\n",
    "    key,img = region_img_list[ii]\n",
    "    # Visualize\n",
    "    clear_output(wait=False)\n",
    "    plt.imshow(img)\n",
    "    plt.show()\n",
    "    try:\n",
    "        model_thinks = df_img.loc[key].Labels\n",
    "    except:\n",
    "        model_thinks = \"Doesn't exist\"\n",
    "    \n",
    "    # Information about Image\n",
    "    print(f\"Region: {key}\")\n",
    "    print(f'{ii}/{len(region_img_list)-1}: {model_thinks}')\n",
    "    print('Label (C, MC, I, P) or\\nMove (Index_int)')\n",
    "\n",
    "    # Interaction Point\n",
    "    time.sleep(.1)\n",
    "    human_input = input('Input: ')\n",
    "    check_label = label_dict.get(human_input,None)\n",
    "    if check_label:\n",
    "        human_label_dict[key] = check_label\n",
    "        ii += 1\n",
    "    elif human_input.isdigit():\n",
    "        ii = int(human_input)"
   ]
  },
  {
   "cell_type": "code",
   "execution_count": 9,
   "metadata": {},
   "outputs": [],
   "source": [
    "# Attach labels to everything\n",
    "df_img[f\"{id_human}_Labels\"] = pd.DataFrame(human_label_dict.values(),index=human_label_dict.keys())"
   ]
  },
  {
   "cell_type": "code",
   "execution_count": 10,
   "metadata": {},
   "outputs": [],
   "source": [
    "save_name = f'{img_path.split(\"/\")[-1].split(\".\")[-2]}_Label-{id_human}.csv'\n",
    "save_path = os.path.join(save_folder,save_name)\n",
    "df_img.to_csv(save_name)"
   ]
  }
 ],
 "metadata": {
  "kernelspec": {
   "display_name": "cc_env",
   "language": "python",
   "name": "python3"
  },
  "language_info": {
   "codemirror_mode": {
    "name": "ipython",
    "version": 3
   },
   "file_extension": ".py",
   "mimetype": "text/x-python",
   "name": "python",
   "nbconvert_exporter": "python",
   "pygments_lexer": "ipython3",
   "version": "3.9.13"
  },
  "orig_nbformat": 4
 },
 "nbformat": 4,
 "nbformat_minor": 2
}
